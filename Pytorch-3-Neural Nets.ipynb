{
 "cells": [
  {
   "cell_type": "markdown",
   "id": "2e57d0c7",
   "metadata": {},
   "source": [
    "# Importing the Necessary Libraries"
   ]
  },
  {
   "cell_type": "code",
   "execution_count": 52,
   "id": "eda2431b",
   "metadata": {
    "ExecuteTime": {
     "end_time": "2022-05-27T14:26:46.850430Z",
     "start_time": "2022-05-27T14:26:46.737013Z"
    }
   },
   "outputs": [],
   "source": [
    "import torch"
   ]
  },
  {
   "cell_type": "markdown",
   "id": "bd8eb6c1",
   "metadata": {},
   "source": [
    "# Getting a device to work with"
   ]
  },
  {
   "cell_type": "code",
   "execution_count": 53,
   "id": "b214b511",
   "metadata": {
    "ExecuteTime": {
     "end_time": "2022-05-27T14:27:31.756293Z",
     "start_time": "2022-05-27T14:27:31.722395Z"
    }
   },
   "outputs": [
    {
     "data": {
      "text/plain": [
       "'cpu'"
      ]
     },
     "execution_count": 53,
     "metadata": {},
     "output_type": "execute_result"
    }
   ],
   "source": [
    "device = 'cuda' if torch.cuda.is_available() else 'cpu'\n",
    "device"
   ]
  },
  {
   "cell_type": "markdown",
   "id": "a1afe545",
   "metadata": {},
   "source": [
    "# A Simple Neural Net"
   ]
  },
  {
   "cell_type": "code",
   "execution_count": 54,
   "id": "ba4cadf6",
   "metadata": {
    "ExecuteTime": {
     "end_time": "2022-05-27T14:32:32.893333Z",
     "start_time": "2022-05-27T14:32:32.865121Z"
    }
   },
   "outputs": [],
   "source": [
    "class my_neural_net(torch.nn.Module):\n",
    "    def __init__(self):\n",
    "        # first of all, initialize the original class's object\n",
    "        super(my_neural_net, self).__init__() \n",
    "        # second, define layers of the NN\n",
    "        self.first_layer = torch.nn.Sequential( \n",
    "            torch.nn.Linear(10000, 100), # this layer first maps a 10000-long input to a 100-d vector\n",
    "            torch.nn.Softmax(dim=1) # and then applies the softmax on the 100-d vector\n",
    "        )\n",
    "        self.flatten = torch.nn.Flatten()\n",
    "    def forward(self, x):\n",
    "        # here, we define how we want our neural network to operate on a given input\n",
    "        x = self.flatten(x)\n",
    "        output = self.first_layer(x)\n",
    "        return output"
   ]
  },
  {
   "cell_type": "markdown",
   "id": "c54242a9",
   "metadata": {},
   "source": [
    "Make an object of that class"
   ]
  },
  {
   "cell_type": "code",
   "execution_count": 55,
   "id": "7477d194",
   "metadata": {
    "ExecuteTime": {
     "end_time": "2022-05-27T14:32:36.150878Z",
     "start_time": "2022-05-27T14:32:36.045299Z"
    }
   },
   "outputs": [],
   "source": [
    "simple_nn = my_neural_net()"
   ]
  },
  {
   "cell_type": "markdown",
   "id": "41288f10",
   "metadata": {},
   "source": [
    "Move the object to the device"
   ]
  },
  {
   "cell_type": "code",
   "execution_count": 56,
   "id": "3f87c9d4",
   "metadata": {
    "ExecuteTime": {
     "end_time": "2022-05-27T14:33:05.197634Z",
     "start_time": "2022-05-27T14:33:05.161537Z"
    }
   },
   "outputs": [],
   "source": [
    "simple_nn = simple_nn.to(device)"
   ]
  },
  {
   "cell_type": "code",
   "execution_count": 57,
   "id": "4439fcd3",
   "metadata": {
    "ExecuteTime": {
     "end_time": "2022-05-27T14:33:12.759337Z",
     "start_time": "2022-05-27T14:33:12.735981Z"
    }
   },
   "outputs": [
    {
     "data": {
      "text/plain": [
       "my_neural_net(\n",
       "  (first_layer): Sequential(\n",
       "    (0): Linear(in_features=10000, out_features=100, bias=True)\n",
       "    (1): Softmax(dim=1)\n",
       "  )\n",
       "  (flatten): Flatten(start_dim=1, end_dim=-1)\n",
       ")"
      ]
     },
     "execution_count": 57,
     "metadata": {},
     "output_type": "execute_result"
    }
   ],
   "source": [
    "simple_nn"
   ]
  },
  {
   "cell_type": "markdown",
   "id": "091e6f10",
   "metadata": {},
   "source": [
    "## Exploring the Flatten Layer"
   ]
  },
  {
   "cell_type": "code",
   "execution_count": 58,
   "id": "2fdba93c",
   "metadata": {
    "ExecuteTime": {
     "end_time": "2022-05-27T14:33:36.253989Z",
     "start_time": "2022-05-27T14:33:36.232322Z"
    }
   },
   "outputs": [
    {
     "data": {
      "text/plain": [
       "<bound method Module.parameters of Flatten(start_dim=1, end_dim=-1)>"
      ]
     },
     "execution_count": 58,
     "metadata": {},
     "output_type": "execute_result"
    }
   ],
   "source": [
    "simple_nn.flatten.parameters"
   ]
  },
  {
   "cell_type": "markdown",
   "id": "0f577dfc",
   "metadata": {},
   "source": [
    "## Exploring the First Layer"
   ]
  },
  {
   "cell_type": "code",
   "execution_count": 59,
   "id": "cc6ce9d3",
   "metadata": {
    "ExecuteTime": {
     "end_time": "2022-05-27T14:33:48.915474Z",
     "start_time": "2022-05-27T14:33:48.893975Z"
    }
   },
   "outputs": [
    {
     "data": {
      "text/plain": [
       "<bound method Module.parameters of Sequential(\n",
       "  (0): Linear(in_features=10000, out_features=100, bias=True)\n",
       "  (1): Softmax(dim=1)\n",
       ")>"
      ]
     },
     "execution_count": 59,
     "metadata": {},
     "output_type": "execute_result"
    }
   ],
   "source": [
    "simple_nn.first_layer.parameters"
   ]
  },
  {
   "cell_type": "code",
   "execution_count": 60,
   "id": "2e164dad",
   "metadata": {
    "ExecuteTime": {
     "end_time": "2022-05-27T14:34:19.311411Z",
     "start_time": "2022-05-27T14:34:19.167189Z"
    }
   },
   "outputs": [
    {
     "data": {
      "text/plain": [
       "Parameter containing:\n",
       "tensor([[-0.0011,  0.0041,  0.0034,  ...,  0.0078, -0.0096, -0.0040],\n",
       "        [-0.0090,  0.0009, -0.0025,  ..., -0.0088,  0.0071, -0.0042],\n",
       "        [ 0.0058, -0.0024,  0.0058,  ...,  0.0085, -0.0051,  0.0041],\n",
       "        ...,\n",
       "        [ 0.0022, -0.0050, -0.0042,  ..., -0.0089, -0.0062,  0.0081],\n",
       "        [ 0.0003, -0.0025, -0.0011,  ...,  0.0094, -0.0006,  0.0034],\n",
       "        [-0.0009,  0.0035,  0.0073,  ...,  0.0039,  0.0008,  0.0028]],\n",
       "       requires_grad=True)"
      ]
     },
     "execution_count": 60,
     "metadata": {},
     "output_type": "execute_result"
    }
   ],
   "source": [
    "simple_nn.first_layer[0].weight # weights of the linear layer"
   ]
  },
  {
   "cell_type": "code",
   "execution_count": 61,
   "id": "55304de4",
   "metadata": {
    "ExecuteTime": {
     "end_time": "2022-05-27T14:34:22.251731Z",
     "start_time": "2022-05-27T14:34:22.232984Z"
    }
   },
   "outputs": [
    {
     "data": {
      "text/plain": [
       "torch.Size([100, 10000])"
      ]
     },
     "execution_count": 61,
     "metadata": {},
     "output_type": "execute_result"
    }
   ],
   "source": [
    "simple_nn.first_layer[0].weight.shape"
   ]
  },
  {
   "cell_type": "code",
   "execution_count": 62,
   "id": "d64d221e",
   "metadata": {
    "ExecuteTime": {
     "end_time": "2022-05-27T14:34:49.590060Z",
     "start_time": "2022-05-27T14:34:49.563129Z"
    }
   },
   "outputs": [
    {
     "data": {
      "text/plain": [
       "Parameter containing:\n",
       "tensor([-1.3796e-03,  3.2914e-03,  3.9477e-03, -5.9671e-03, -4.8569e-03,\n",
       "        -6.1478e-03, -1.2100e-04, -4.0389e-03, -2.3757e-03,  3.1359e-04,\n",
       "        -5.5810e-03, -2.0566e-03, -8.5154e-03,  9.4019e-03, -7.9394e-03,\n",
       "        -5.3935e-03,  2.7543e-04,  9.4502e-03,  8.5511e-03, -9.9402e-03,\n",
       "         4.0279e-03,  9.2692e-03,  4.6177e-03, -1.7801e-03, -8.2470e-03,\n",
       "         1.8742e-05,  4.5681e-03,  4.6123e-04, -2.1608e-03, -7.9991e-03,\n",
       "        -6.1995e-03, -4.5583e-03, -2.0524e-03, -6.1808e-03,  5.2230e-03,\n",
       "        -8.2621e-03, -4.7253e-03,  8.3447e-03, -5.7234e-03,  9.3964e-03,\n",
       "        -9.2948e-03,  1.0814e-03, -3.5466e-03, -4.9322e-03,  9.5777e-03,\n",
       "        -3.4608e-03,  9.2246e-03, -4.7672e-03,  3.4156e-03,  1.3527e-03,\n",
       "         2.6197e-03,  3.7030e-03, -9.8795e-03,  8.8686e-03, -8.4393e-03,\n",
       "         2.8033e-03,  1.3842e-04, -2.9049e-03, -2.5941e-03, -9.3400e-03,\n",
       "         3.0445e-03,  9.1432e-03,  7.4289e-04,  7.9431e-03,  9.7155e-03,\n",
       "        -7.7544e-03, -5.7786e-03, -7.6822e-03,  6.0548e-03, -7.3356e-03,\n",
       "         7.6280e-03,  9.1774e-03, -7.5331e-03, -9.0172e-03, -5.5731e-03,\n",
       "         4.7288e-03, -4.0011e-03,  7.2871e-03, -8.9371e-03, -9.7504e-03,\n",
       "        -5.4372e-03, -7.0768e-03, -6.3307e-03, -6.2958e-03, -5.8411e-03,\n",
       "         3.1092e-03,  6.5856e-03, -7.3472e-03,  1.1687e-03,  6.9618e-03,\n",
       "         7.4277e-04,  5.5266e-03, -7.3987e-03,  8.7863e-03,  3.8270e-05,\n",
       "        -4.7482e-03, -4.5880e-03, -9.2353e-03,  1.5453e-03, -6.9686e-03],\n",
       "       requires_grad=True)"
      ]
     },
     "execution_count": 62,
     "metadata": {},
     "output_type": "execute_result"
    }
   ],
   "source": [
    "simple_nn.first_layer[0].bias # biases of the linear layer"
   ]
  },
  {
   "cell_type": "code",
   "execution_count": 63,
   "id": "6cf4dcd6",
   "metadata": {
    "ExecuteTime": {
     "end_time": "2022-05-27T14:35:00.486075Z",
     "start_time": "2022-05-27T14:35:00.463769Z"
    }
   },
   "outputs": [
    {
     "data": {
      "text/plain": [
       "torch.Size([100])"
      ]
     },
     "execution_count": 63,
     "metadata": {},
     "output_type": "execute_result"
    }
   ],
   "source": [
    "simple_nn.first_layer[0].bias.shape"
   ]
  },
  {
   "cell_type": "code",
   "execution_count": 64,
   "id": "dda3255f",
   "metadata": {
    "ExecuteTime": {
     "end_time": "2022-05-27T14:35:14.256129Z",
     "start_time": "2022-05-27T14:35:14.222219Z"
    }
   },
   "outputs": [
    {
     "data": {
      "text/plain": [
       "Softmax(dim=1)"
      ]
     },
     "execution_count": 64,
     "metadata": {},
     "output_type": "execute_result"
    }
   ],
   "source": [
    "simple_nn.first_layer[1]"
   ]
  },
  {
   "cell_type": "markdown",
   "id": "17715978",
   "metadata": {},
   "source": [
    "# Testing the Model"
   ]
  },
  {
   "cell_type": "code",
   "execution_count": 65,
   "id": "1f96b6df",
   "metadata": {
    "ExecuteTime": {
     "end_time": "2022-05-27T14:35:33.232183Z",
     "start_time": "2022-05-27T14:35:33.192717Z"
    }
   },
   "outputs": [],
   "source": [
    "sample_input = torch.rand(1,100,100)"
   ]
  },
  {
   "cell_type": "code",
   "execution_count": 66,
   "id": "975ec027",
   "metadata": {
    "ExecuteTime": {
     "end_time": "2022-05-27T14:35:38.460595Z",
     "start_time": "2022-05-27T14:35:38.452435Z"
    }
   },
   "outputs": [
    {
     "data": {
      "text/plain": [
       "torch.Size([1, 100, 100])"
      ]
     },
     "execution_count": 66,
     "metadata": {},
     "output_type": "execute_result"
    }
   ],
   "source": [
    "sample_input.shape"
   ]
  },
  {
   "cell_type": "code",
   "execution_count": 68,
   "id": "ecff0780",
   "metadata": {
    "ExecuteTime": {
     "end_time": "2022-05-27T14:35:47.453455Z",
     "start_time": "2022-05-27T14:35:47.437416Z"
    }
   },
   "outputs": [
    {
     "data": {
      "text/plain": [
       "tensor([[0.0046, 0.0100, 0.0096, 0.0064, 0.0126, 0.0100, 0.0185, 0.0066, 0.0085,\n",
       "         0.0089, 0.0053, 0.0076, 0.0111, 0.0177, 0.0065, 0.0250, 0.0116, 0.0110,\n",
       "         0.0061, 0.0096, 0.0083, 0.0120, 0.0083, 0.0117, 0.0116, 0.0131, 0.0118,\n",
       "         0.0027, 0.0072, 0.0191, 0.0071, 0.0127, 0.0101, 0.0100, 0.0118, 0.0108,\n",
       "         0.0087, 0.0112, 0.0131, 0.0107, 0.0079, 0.0091, 0.0090, 0.0085, 0.0091,\n",
       "         0.0106, 0.0112, 0.0103, 0.0106, 0.0118, 0.0085, 0.0073, 0.0072, 0.0056,\n",
       "         0.0072, 0.0097, 0.0160, 0.0075, 0.0131, 0.0082, 0.0071, 0.0091, 0.0057,\n",
       "         0.0046, 0.0103, 0.0103, 0.0066, 0.0067, 0.0063, 0.0094, 0.0039, 0.0104,\n",
       "         0.0070, 0.0029, 0.0083, 0.0074, 0.0131, 0.0137, 0.0138, 0.0087, 0.0061,\n",
       "         0.0096, 0.0083, 0.0164, 0.0186, 0.0059, 0.0119, 0.0150, 0.0090, 0.0077,\n",
       "         0.0093, 0.0239, 0.0153, 0.0109, 0.0107, 0.0100, 0.0106, 0.0073, 0.0125,\n",
       "         0.0080]], grad_fn=<SoftmaxBackward0>)"
      ]
     },
     "execution_count": 68,
     "metadata": {},
     "output_type": "execute_result"
    }
   ],
   "source": [
    "simple_nn(sample_input)"
   ]
  },
  {
   "cell_type": "code",
   "execution_count": 69,
   "id": "68e46e8a",
   "metadata": {
    "ExecuteTime": {
     "end_time": "2022-05-27T14:35:49.243090Z",
     "start_time": "2022-05-27T14:35:49.227907Z"
    }
   },
   "outputs": [
    {
     "data": {
      "text/plain": [
       "torch.Size([1, 100])"
      ]
     },
     "execution_count": 69,
     "metadata": {},
     "output_type": "execute_result"
    }
   ],
   "source": [
    "simple_nn(sample_input).shape"
   ]
  },
  {
   "cell_type": "code",
   "execution_count": 70,
   "id": "fad62c5d",
   "metadata": {
    "ExecuteTime": {
     "end_time": "2022-05-27T14:36:21.832366Z",
     "start_time": "2022-05-27T14:36:21.801473Z"
    }
   },
   "outputs": [
    {
     "data": {
      "text/plain": [
       "tensor([[0.5143, 0.3422, 0.5147,  ..., 0.1284, 0.7533, 0.9834]])"
      ]
     },
     "execution_count": 70,
     "metadata": {},
     "output_type": "execute_result"
    }
   ],
   "source": [
    "simple_nn.flatten(sample_input)"
   ]
  },
  {
   "cell_type": "code",
   "execution_count": 71,
   "id": "608b759c",
   "metadata": {
    "ExecuteTime": {
     "end_time": "2022-05-27T14:36:25.055947Z",
     "start_time": "2022-05-27T14:36:25.049781Z"
    }
   },
   "outputs": [
    {
     "data": {
      "text/plain": [
       "torch.Size([1, 10000])"
      ]
     },
     "execution_count": 71,
     "metadata": {},
     "output_type": "execute_result"
    }
   ],
   "source": [
    "simple_nn.flatten(sample_input).shape"
   ]
  },
  {
   "cell_type": "code",
   "execution_count": 72,
   "id": "97ae755e",
   "metadata": {
    "ExecuteTime": {
     "end_time": "2022-05-27T14:36:38.168236Z",
     "start_time": "2022-05-27T14:36:38.139423Z"
    }
   },
   "outputs": [
    {
     "data": {
      "text/plain": [
       "tensor([[-0.7693,  0.0030, -0.0334, -0.4434,  0.2405,  0.0029,  0.6232, -0.4082,\n",
       "         -0.1580, -0.1069, -0.6261, -0.2655,  0.1094,  0.5806, -0.4161,  0.9235,\n",
       "          0.1572,  0.1070, -0.4924, -0.0356, -0.1770,  0.1885, -0.1733,  0.1669,\n",
       "          0.1561,  0.2752,  0.1711, -1.3161, -0.3260,  0.6552, -0.3396,  0.2472,\n",
       "          0.0213,  0.0052,  0.1735,  0.0885, -0.1368,  0.1171,  0.2802,  0.0724,\n",
       "         -0.2337, -0.0848, -0.1031, -0.1537, -0.0895,  0.0614,  0.1227,  0.0357,\n",
       "          0.0637,  0.1727, -0.1588, -0.3097, -0.3173, -0.5774, -0.3230, -0.0222,\n",
       "          0.4743, -0.2770,  0.2789, -0.1854, -0.3404, -0.0821, -0.5541, -0.7767,\n",
       "          0.0378,  0.0400, -0.4057, -0.3930, -0.4567, -0.0502, -0.9299,  0.0438,\n",
       "         -0.3472, -1.2186, -0.1734, -0.2879,  0.2751,  0.3204,  0.3268, -0.1279,\n",
       "         -0.4940, -0.0317, -0.1765,  0.5049,  0.6267, -0.5123,  0.1804,  0.4135,\n",
       "         -0.0935, -0.2549, -0.0659,  0.8785,  0.4327,  0.0927,  0.0779,  0.0092,\n",
       "          0.0678, -0.3014,  0.2304, -0.2191]], grad_fn=<AddmmBackward0>)"
      ]
     },
     "execution_count": 72,
     "metadata": {},
     "output_type": "execute_result"
    }
   ],
   "source": [
    "simple_nn.first_layer[0](simple_nn.flatten(sample_input))"
   ]
  },
  {
   "cell_type": "code",
   "execution_count": 73,
   "id": "569a4c27",
   "metadata": {
    "ExecuteTime": {
     "end_time": "2022-05-27T14:36:50.398726Z",
     "start_time": "2022-05-27T14:36:50.386953Z"
    }
   },
   "outputs": [
    {
     "data": {
      "text/plain": [
       "torch.Size([1, 100])"
      ]
     },
     "execution_count": 73,
     "metadata": {},
     "output_type": "execute_result"
    }
   ],
   "source": [
    "simple_nn.first_layer[0](simple_nn.flatten(sample_input)).shape"
   ]
  },
  {
   "cell_type": "code",
   "execution_count": 74,
   "id": "3a7a69dd",
   "metadata": {
    "ExecuteTime": {
     "end_time": "2022-05-27T14:37:01.546207Z",
     "start_time": "2022-05-27T14:37:01.493345Z"
    }
   },
   "outputs": [
    {
     "data": {
      "text/plain": [
       "-6.2187476"
      ]
     },
     "execution_count": 74,
     "metadata": {},
     "output_type": "execute_result"
    }
   ],
   "source": [
    "simple_nn.first_layer[0](simple_nn.flatten(sample_input)).detach().numpy().sum()"
   ]
  },
  {
   "cell_type": "code",
   "execution_count": 75,
   "id": "0f840cef",
   "metadata": {
    "ExecuteTime": {
     "end_time": "2022-05-27T14:37:48.963899Z",
     "start_time": "2022-05-27T14:37:48.932936Z"
    }
   },
   "outputs": [
    {
     "data": {
      "text/plain": [
       "tensor([[0.0046, 0.0100, 0.0096, 0.0064, 0.0126, 0.0100, 0.0185, 0.0066, 0.0085,\n",
       "         0.0089, 0.0053, 0.0076, 0.0111, 0.0177, 0.0065, 0.0250, 0.0116, 0.0110,\n",
       "         0.0061, 0.0096, 0.0083, 0.0120, 0.0083, 0.0117, 0.0116, 0.0131, 0.0118,\n",
       "         0.0027, 0.0072, 0.0191, 0.0071, 0.0127, 0.0101, 0.0100, 0.0118, 0.0108,\n",
       "         0.0087, 0.0112, 0.0131, 0.0107, 0.0079, 0.0091, 0.0090, 0.0085, 0.0091,\n",
       "         0.0106, 0.0112, 0.0103, 0.0106, 0.0118, 0.0085, 0.0073, 0.0072, 0.0056,\n",
       "         0.0072, 0.0097, 0.0160, 0.0075, 0.0131, 0.0082, 0.0071, 0.0091, 0.0057,\n",
       "         0.0046, 0.0103, 0.0103, 0.0066, 0.0067, 0.0063, 0.0094, 0.0039, 0.0104,\n",
       "         0.0070, 0.0029, 0.0083, 0.0074, 0.0131, 0.0137, 0.0138, 0.0087, 0.0061,\n",
       "         0.0096, 0.0083, 0.0164, 0.0186, 0.0059, 0.0119, 0.0150, 0.0090, 0.0077,\n",
       "         0.0093, 0.0239, 0.0153, 0.0109, 0.0107, 0.0100, 0.0106, 0.0073, 0.0125,\n",
       "         0.0080]], grad_fn=<SoftmaxBackward0>)"
      ]
     },
     "execution_count": 75,
     "metadata": {},
     "output_type": "execute_result"
    }
   ],
   "source": [
    "simple_nn.first_layer[1](simple_nn.first_layer[0](simple_nn.flatten(sample_input)))"
   ]
  },
  {
   "cell_type": "code",
   "execution_count": 76,
   "id": "7ad15bc2",
   "metadata": {
    "ExecuteTime": {
     "end_time": "2022-05-27T14:38:01.306679Z",
     "start_time": "2022-05-27T14:38:01.288618Z"
    }
   },
   "outputs": [
    {
     "data": {
      "text/plain": [
       "torch.Size([1, 100])"
      ]
     },
     "execution_count": 76,
     "metadata": {},
     "output_type": "execute_result"
    }
   ],
   "source": [
    "simple_nn.first_layer[1](simple_nn.first_layer[0](simple_nn.flatten(sample_input))).shape"
   ]
  },
  {
   "cell_type": "code",
   "execution_count": 77,
   "id": "0a29e708",
   "metadata": {
    "ExecuteTime": {
     "end_time": "2022-05-27T14:38:05.947777Z",
     "start_time": "2022-05-27T14:38:05.936800Z"
    }
   },
   "outputs": [
    {
     "data": {
      "text/plain": [
       "0.9999999"
      ]
     },
     "execution_count": 77,
     "metadata": {},
     "output_type": "execute_result"
    }
   ],
   "source": [
    "simple_nn.first_layer[1](simple_nn.first_layer[0](simple_nn.flatten(sample_input))).detach().numpy().sum()"
   ]
  }
 ],
 "metadata": {
  "kernelspec": {
   "display_name": "Python [conda env:torch] *",
   "language": "python",
   "name": "conda-env-torch-py"
  },
  "language_info": {
   "codemirror_mode": {
    "name": "ipython",
    "version": 3
   },
   "file_extension": ".py",
   "mimetype": "text/x-python",
   "name": "python",
   "nbconvert_exporter": "python",
   "pygments_lexer": "ipython3",
   "version": "3.9.12"
  }
 },
 "nbformat": 4,
 "nbformat_minor": 5
}
